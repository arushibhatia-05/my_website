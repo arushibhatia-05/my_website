{
 "cells": [
  {
   "cell_type": "code",
   "execution_count": 5,
   "id": "317e8f1f-19df-4cbb-9a4a-29d8c82028bf",
   "metadata": {},
   "outputs": [
    {
     "data": {
      "text/html": [
       "\n",
       "<style>\n",
       "  #altair-viz-759b3fffbdb54166ab22585f3ac3561b.vega-embed {\n",
       "    width: 100%;\n",
       "    display: flex;\n",
       "  }\n",
       "\n",
       "  #altair-viz-759b3fffbdb54166ab22585f3ac3561b.vega-embed details,\n",
       "  #altair-viz-759b3fffbdb54166ab22585f3ac3561b.vega-embed details summary {\n",
       "    position: relative;\n",
       "  }\n",
       "</style>\n",
       "<div id=\"altair-viz-759b3fffbdb54166ab22585f3ac3561b\"></div>\n",
       "<script type=\"text/javascript\">\n",
       "  var VEGA_DEBUG = (typeof VEGA_DEBUG == \"undefined\") ? {} : VEGA_DEBUG;\n",
       "  (function(spec, embedOpt){\n",
       "    let outputDiv = document.currentScript.previousElementSibling;\n",
       "    if (outputDiv.id !== \"altair-viz-759b3fffbdb54166ab22585f3ac3561b\") {\n",
       "      outputDiv = document.getElementById(\"altair-viz-759b3fffbdb54166ab22585f3ac3561b\");\n",
       "    }\n",
       "\n",
       "    const paths = {\n",
       "      \"vega\": \"https://cdn.jsdelivr.net/npm/vega@5?noext\",\n",
       "      \"vega-lib\": \"https://cdn.jsdelivr.net/npm/vega-lib?noext\",\n",
       "      \"vega-lite\": \"https://cdn.jsdelivr.net/npm/vega-lite@5.20.1?noext\",\n",
       "      \"vega-embed\": \"https://cdn.jsdelivr.net/npm/vega-embed@6?noext\",\n",
       "    };\n",
       "\n",
       "    function maybeLoadScript(lib, version) {\n",
       "      var key = `${lib.replace(\"-\", \"\")}_version`;\n",
       "      return (VEGA_DEBUG[key] == version) ?\n",
       "        Promise.resolve(paths[lib]) :\n",
       "        new Promise(function(resolve, reject) {\n",
       "          var s = document.createElement('script');\n",
       "          document.getElementsByTagName(\"head\")[0].appendChild(s);\n",
       "          s.async = true;\n",
       "          s.onload = () => {\n",
       "            VEGA_DEBUG[key] = version;\n",
       "            return resolve(paths[lib]);\n",
       "          };\n",
       "          s.onerror = () => reject(`Error loading script: ${paths[lib]}`);\n",
       "          s.src = paths[lib];\n",
       "        });\n",
       "    }\n",
       "\n",
       "    function showError(err) {\n",
       "      outputDiv.innerHTML = `<div class=\"error\" style=\"color:red;\">${err}</div>`;\n",
       "      throw err;\n",
       "    }\n",
       "\n",
       "    function displayChart(vegaEmbed) {\n",
       "      vegaEmbed(outputDiv, spec, embedOpt)\n",
       "        .catch(err => showError(`Javascript Error: ${err.message}<br>This usually means there's a typo in your chart specification. See the javascript console for the full traceback.`));\n",
       "    }\n",
       "\n",
       "    if(typeof define === \"function\" && define.amd) {\n",
       "      requirejs.config({paths});\n",
       "      let deps = [\"vega-embed\"];\n",
       "      require(deps, displayChart, err => showError(`Error loading script: ${err.message}`));\n",
       "    } else {\n",
       "      maybeLoadScript(\"vega\", \"5\")\n",
       "        .then(() => maybeLoadScript(\"vega-lite\", \"5.20.1\"))\n",
       "        .then(() => maybeLoadScript(\"vega-embed\", \"6\"))\n",
       "        .catch(showError)\n",
       "        .then(() => displayChart(vegaEmbed));\n",
       "    }\n",
       "  })({\"config\": {\"view\": {\"continuousWidth\": 300, \"continuousHeight\": 300}}, \"data\": {\"name\": \"data-b893396a9932c7879ee222f038f095f3\"}, \"mark\": {\"type\": \"line\"}, \"encoding\": {\"color\": {\"field\": \"Student\", \"title\": \"Student\", \"type\": \"nominal\"}, \"tooltip\": [{\"field\": \"Student\", \"type\": \"nominal\"}, {\"field\": \"Subject\", \"type\": \"nominal\"}, {\"field\": \"Grade\", \"type\": \"quantitative\"}], \"x\": {\"field\": \"Subject\", \"title\": \"Subject\", \"type\": \"nominal\"}, \"y\": {\"field\": \"Grade\", \"title\": \"Grade\", \"type\": \"quantitative\"}}, \"title\": \"Parallel Coordinates Plot for Student Grades\", \"$schema\": \"https://vega.github.io/schema/vega-lite/v5.20.1.json\", \"datasets\": {\"data-b893396a9932c7879ee222f038f095f3\": [{\"Subject\": \"Math\", \"Student\": \"Student 1\", \"Grade\": 85}, {\"Subject\": \"Physics\", \"Student\": \"Student 1\", \"Grade\": 95}, {\"Subject\": \"Dance\", \"Student\": \"Student 1\", \"Grade\": 70}, {\"Subject\": \"Drama\", \"Student\": \"Student 1\", \"Grade\": 65}, {\"Subject\": \"Math\", \"Student\": \"Student 2\", \"Grade\": 90}, {\"Subject\": \"Physics\", \"Student\": \"Student 2\", \"Grade\": 80}, {\"Subject\": \"Dance\", \"Student\": \"Student 2\", \"Grade\": 60}, {\"Subject\": \"Drama\", \"Student\": \"Student 2\", \"Grade\": 50}, {\"Subject\": \"Math\", \"Student\": \"Student 3\", \"Grade\": 65}, {\"Subject\": \"Physics\", \"Student\": \"Student 3\", \"Grade\": 50}, {\"Subject\": \"Dance\", \"Student\": \"Student 3\", \"Grade\": 90}, {\"Subject\": \"Drama\", \"Student\": \"Student 3\", \"Grade\": 90}, {\"Subject\": \"Math\", \"Student\": \"Student 4\", \"Grade\": 50}, {\"Subject\": \"Physics\", \"Student\": \"Student 4\", \"Grade\": 40}, {\"Subject\": \"Dance\", \"Student\": \"Student 4\", \"Grade\": 95}, {\"Subject\": \"Drama\", \"Student\": \"Student 4\", \"Grade\": 80}, {\"Subject\": \"Math\", \"Student\": \"Student 5\", \"Grade\": 40}, {\"Subject\": \"Physics\", \"Student\": \"Student 5\", \"Grade\": 60}, {\"Subject\": \"Dance\", \"Student\": \"Student 5\", \"Grade\": 80}, {\"Subject\": \"Drama\", \"Student\": \"Student 5\", \"Grade\": 90}]}}, {\"mode\": \"vega-lite\"});\n",
       "</script>"
      ],
      "text/plain": [
       "alt.Chart(...)"
      ]
     },
     "metadata": {},
     "output_type": "display_data"
    },
    {
     "name": "stdout",
     "output_type": "stream",
     "text": [
      "Visualization saved as student_grades_parallel_plot.html\n"
     ]
    }
   ],
   "source": [
    "import altair as alt\n",
    "import pandas as pd\n",
    "\n",
    "# Creating a DataFrame with student grades\n",
    "data = {\n",
    "    \"Subject\": [\"Math\", \"Physics\", \"Dance\", \"Drama\"],\n",
    "    \"Student 1\": [85, 95, 70, 65],\n",
    "    \"Student 2\": [90, 80, 60, 50],\n",
    "    \"Student 3\": [65, 50, 90, 90],\n",
    "    \"Student 4\": [50, 40, 95, 80],\n",
    "    \"Student 5\": [40, 60, 80, 90],\n",
    "}\n",
    "\n",
    "df = pd.DataFrame(data)\n",
    "\n",
    "# Melting the DataFrame for Altair\n",
    "df_melted = df.melt(id_vars=[\"Subject\"], var_name=\"Student\", value_name=\"Grade\")\n",
    "\n",
    "# Creating the parallel coordinates chart using Altair\n",
    "chart = alt.Chart(df_melted).mark_line().encode(\n",
    "    x=alt.X(\"Subject:N\", title=\"Subject\"),\n",
    "    y=alt.Y(\"Grade:Q\", title=\"Grade\"),\n",
    "    color=alt.Color(\"Student:N\", title=\"Student\"),\n",
    "    tooltip=[\"Student\", \"Subject\", \"Grade\"]\n",
    ").properties(title=\"Parallel Coordinates Plot for Student Grades\")\n",
    "\n",
    "chart.display()\n",
    "print(\"Visualization saved as student_grades_parallel_plot.html\")"
   ]
  },
  {
   "cell_type": "code",
   "execution_count": null,
   "id": "03e50ee4-d4e2-4b83-a5c8-d6a8cf9c5551",
   "metadata": {},
   "outputs": [],
   "source": []
  }
 ],
 "metadata": {
  "kernelspec": {
   "display_name": "Python [conda env:base] *",
   "language": "python",
   "name": "conda-base-py"
  },
  "language_info": {
   "codemirror_mode": {
    "name": "ipython",
    "version": 3
   },
   "file_extension": ".py",
   "mimetype": "text/x-python",
   "name": "python",
   "nbconvert_exporter": "python",
   "pygments_lexer": "ipython3",
   "version": "3.9.13"
  }
 },
 "nbformat": 4,
 "nbformat_minor": 5
}
