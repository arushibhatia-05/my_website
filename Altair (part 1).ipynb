{
 "cells": [
  {
   "cell_type": "markdown",
   "id": "782e7998",
   "metadata": {},
   "source": [
    "## Introduction to Altair (part 1)\n",
    "\n",
    "In this section, we will focus on getting some basic ideas of Altair and getting familiar about how to generate basic figures with it. Also, we still discuss how to change the graphical marks and encoding channels in Altair. "
   ]
  },
  {
   "cell_type": "code",
   "execution_count": 1,
   "id": "b15b04ef",
   "metadata": {},
   "outputs": [],
   "source": [
    "#pip install altair"
   ]
  },
  {
   "cell_type": "code",
   "execution_count": 3,
   "id": "365507a1",
   "metadata": {},
   "outputs": [],
   "source": [
    "# Install the module\n",
    "import pandas as pd\n",
    "import altair as alt"
   ]
  },
  {
   "cell_type": "code",
   "execution_count": 1,
   "id": "1f4ce902",
   "metadata": {},
   "outputs": [
    {
     "data": {
      "text/html": [
       "<div>\n",
       "<style scoped>\n",
       "    .dataframe tbody tr th:only-of-type {\n",
       "        vertical-align: middle;\n",
       "    }\n",
       "\n",
       "    .dataframe tbody tr th {\n",
       "        vertical-align: top;\n",
       "    }\n",
       "\n",
       "    .dataframe thead th {\n",
       "        text-align: right;\n",
       "    }\n",
       "</style>\n",
       "<table border=\"1\" class=\"dataframe\">\n",
       "  <thead>\n",
       "    <tr style=\"text-align: right;\">\n",
       "      <th></th>\n",
       "      <th>Name</th>\n",
       "      <th>Miles_per_Gallon</th>\n",
       "      <th>Cylinders</th>\n",
       "      <th>Displacement</th>\n",
       "      <th>Horsepower</th>\n",
       "      <th>Weight_in_lbs</th>\n",
       "      <th>Acceleration</th>\n",
       "      <th>Year</th>\n",
       "      <th>Origin</th>\n",
       "    </tr>\n",
       "  </thead>\n",
       "  <tbody>\n",
       "    <tr>\n",
       "      <th>0</th>\n",
       "      <td>chevrolet chevelle malibu</td>\n",
       "      <td>18.0</td>\n",
       "      <td>8</td>\n",
       "      <td>307.0</td>\n",
       "      <td>130.0</td>\n",
       "      <td>3504</td>\n",
       "      <td>12.0</td>\n",
       "      <td>1970-01-01</td>\n",
       "      <td>USA</td>\n",
       "    </tr>\n",
       "    <tr>\n",
       "      <th>1</th>\n",
       "      <td>buick skylark 320</td>\n",
       "      <td>15.0</td>\n",
       "      <td>8</td>\n",
       "      <td>350.0</td>\n",
       "      <td>165.0</td>\n",
       "      <td>3693</td>\n",
       "      <td>11.5</td>\n",
       "      <td>1970-01-01</td>\n",
       "      <td>USA</td>\n",
       "    </tr>\n",
       "    <tr>\n",
       "      <th>2</th>\n",
       "      <td>plymouth satellite</td>\n",
       "      <td>18.0</td>\n",
       "      <td>8</td>\n",
       "      <td>318.0</td>\n",
       "      <td>150.0</td>\n",
       "      <td>3436</td>\n",
       "      <td>11.0</td>\n",
       "      <td>1970-01-01</td>\n",
       "      <td>USA</td>\n",
       "    </tr>\n",
       "    <tr>\n",
       "      <th>3</th>\n",
       "      <td>amc rebel sst</td>\n",
       "      <td>16.0</td>\n",
       "      <td>8</td>\n",
       "      <td>304.0</td>\n",
       "      <td>150.0</td>\n",
       "      <td>3433</td>\n",
       "      <td>12.0</td>\n",
       "      <td>1970-01-01</td>\n",
       "      <td>USA</td>\n",
       "    </tr>\n",
       "    <tr>\n",
       "      <th>4</th>\n",
       "      <td>ford torino</td>\n",
       "      <td>17.0</td>\n",
       "      <td>8</td>\n",
       "      <td>302.0</td>\n",
       "      <td>140.0</td>\n",
       "      <td>3449</td>\n",
       "      <td>10.5</td>\n",
       "      <td>1970-01-01</td>\n",
       "      <td>USA</td>\n",
       "    </tr>\n",
       "  </tbody>\n",
       "</table>\n",
       "</div>"
      ],
      "text/plain": [
       "                        Name  Miles_per_Gallon  Cylinders  Displacement  \\\n",
       "0  chevrolet chevelle malibu              18.0          8         307.0   \n",
       "1          buick skylark 320              15.0          8         350.0   \n",
       "2         plymouth satellite              18.0          8         318.0   \n",
       "3              amc rebel sst              16.0          8         304.0   \n",
       "4                ford torino              17.0          8         302.0   \n",
       "\n",
       "   Horsepower  Weight_in_lbs  Acceleration       Year Origin  \n",
       "0       130.0           3504          12.0 1970-01-01    USA  \n",
       "1       165.0           3693          11.5 1970-01-01    USA  \n",
       "2       150.0           3436          11.0 1970-01-01    USA  \n",
       "3       150.0           3433          12.0 1970-01-01    USA  \n",
       "4       140.0           3449          10.5 1970-01-01    USA  "
      ]
     },
     "execution_count": 1,
     "metadata": {},
     "output_type": "execute_result"
    }
   ],
   "source": [
    "# Import a data from vega-datasets\n",
    "from vega_datasets import data  # import vega_datasets\n",
    "cars = data.cars()              # load cars data as a Pandas data frame\n",
    "cars.head()"
   ]
  },
  {
   "cell_type": "markdown",
   "id": "b0749600",
   "metadata": {},
   "source": [
    "#### Fundamental object: Chart\n",
    "\n",
    "The fundamental object in Altair is the Chart, which takes a data frame as a single argument."
   ]
  },
  {
   "cell_type": "code",
   "execution_count": null,
   "id": "3d7147d6",
   "metadata": {},
   "outputs": [],
   "source": []
  },
  {
   "cell_type": "markdown",
   "id": "ff7040b1",
   "metadata": {},
   "source": [
    "#### Marks and Encodings\n",
    "\n",
    "We first indicate what kind of mark (geometric shape) we want to use to represent the data."
   ]
  },
  {
   "cell_type": "code",
   "execution_count": null,
   "id": "8cac1452",
   "metadata": {},
   "outputs": [],
   "source": []
  },
  {
   "cell_type": "code",
   "execution_count": null,
   "id": "9184128e",
   "metadata": {},
   "outputs": [],
   "source": []
  },
  {
   "cell_type": "code",
   "execution_count": null,
   "id": "7329027b",
   "metadata": {},
   "outputs": [],
   "source": []
  },
  {
   "cell_type": "code",
   "execution_count": null,
   "id": "9446e6d4",
   "metadata": {},
   "outputs": [],
   "source": []
  },
  {
   "cell_type": "markdown",
   "id": "185ba101",
   "metadata": {},
   "source": [
    "##### Define types of the attributes\n",
    "\n",
    "Different type of attributes may lead to different data visualization. \n",
    "\n",
    "- ':N' indicates a nominal type (unordered, categorical data),\n",
    "- ':O' indicates an ordinal type (rank-ordered data),\n",
    "- ':Q' indicates a quantitative type (numerical data with meaningful magnitudes), and\n",
    "- ':T' indicates a temporal type (date/time data)"
   ]
  },
  {
   "cell_type": "code",
   "execution_count": null,
   "id": "ad05dac8",
   "metadata": {},
   "outputs": [],
   "source": []
  },
  {
   "cell_type": "markdown",
   "id": "3412188b",
   "metadata": {},
   "source": [
    "##### Data Transformation: Aggregation and Filter\n",
    "\n",
    "You can generate plot of summary statistics without calculating it. The options include: \n",
    "\n",
    "- sum\n",
    "- average\n",
    "- median\n",
    "- q1,q3\n",
    "- min,max\n",
    "\n",
    "You can also include filter to exclude any part of the data or use calculate to generate new attribute to plot. "
   ]
  },
  {
   "cell_type": "code",
   "execution_count": null,
   "id": "a1a884ca",
   "metadata": {},
   "outputs": [],
   "source": []
  },
  {
   "cell_type": "code",
   "execution_count": null,
   "id": "53b89ca5",
   "metadata": {},
   "outputs": [],
   "source": []
  },
  {
   "cell_type": "code",
   "execution_count": null,
   "id": "b8fb2bda-a4ac-4329-aeef-4d56811699c9",
   "metadata": {},
   "outputs": [],
   "source": []
  },
  {
   "cell_type": "code",
   "execution_count": null,
   "id": "273253bf-1b22-42b1-94b3-499134784b33",
   "metadata": {},
   "outputs": [],
   "source": []
  },
  {
   "cell_type": "code",
   "execution_count": null,
   "id": "c1bea38a",
   "metadata": {},
   "outputs": [],
   "source": []
  },
  {
   "cell_type": "markdown",
   "id": "bc793f28-ca11-41d4-a55e-f69e58f4d6a1",
   "metadata": {},
   "source": [
    "#### Title and labels"
   ]
  },
  {
   "cell_type": "code",
   "execution_count": null,
   "id": "1b68e32a-3450-41f9-a04d-90f7fd9fc70e",
   "metadata": {},
   "outputs": [],
   "source": []
  },
  {
   "cell_type": "markdown",
   "id": "3f0bdefc-d9e1-41d7-be87-4ed678081730",
   "metadata": {},
   "source": [
    "#### Exercise\n",
    "\n",
    "The iris dataset contains the length and width of sepals and petals for three flower species. We will load this dataset using vega_datasets."
   ]
  },
  {
   "cell_type": "code",
   "execution_count": 4,
   "id": "9d93a6cb-3a4d-41b9-8b7c-edffa4aad619",
   "metadata": {},
   "outputs": [
    {
     "data": {
      "text/html": [
       "<div>\n",
       "<style scoped>\n",
       "    .dataframe tbody tr th:only-of-type {\n",
       "        vertical-align: middle;\n",
       "    }\n",
       "\n",
       "    .dataframe tbody tr th {\n",
       "        vertical-align: top;\n",
       "    }\n",
       "\n",
       "    .dataframe thead th {\n",
       "        text-align: right;\n",
       "    }\n",
       "</style>\n",
       "<table border=\"1\" class=\"dataframe\">\n",
       "  <thead>\n",
       "    <tr style=\"text-align: right;\">\n",
       "      <th></th>\n",
       "      <th>sepalLength</th>\n",
       "      <th>sepalWidth</th>\n",
       "      <th>petalLength</th>\n",
       "      <th>petalWidth</th>\n",
       "      <th>species</th>\n",
       "    </tr>\n",
       "  </thead>\n",
       "  <tbody>\n",
       "    <tr>\n",
       "      <th>0</th>\n",
       "      <td>5.1</td>\n",
       "      <td>3.5</td>\n",
       "      <td>1.4</td>\n",
       "      <td>0.2</td>\n",
       "      <td>setosa</td>\n",
       "    </tr>\n",
       "    <tr>\n",
       "      <th>1</th>\n",
       "      <td>4.9</td>\n",
       "      <td>3.0</td>\n",
       "      <td>1.4</td>\n",
       "      <td>0.2</td>\n",
       "      <td>setosa</td>\n",
       "    </tr>\n",
       "    <tr>\n",
       "      <th>2</th>\n",
       "      <td>4.7</td>\n",
       "      <td>3.2</td>\n",
       "      <td>1.3</td>\n",
       "      <td>0.2</td>\n",
       "      <td>setosa</td>\n",
       "    </tr>\n",
       "    <tr>\n",
       "      <th>3</th>\n",
       "      <td>4.6</td>\n",
       "      <td>3.1</td>\n",
       "      <td>1.5</td>\n",
       "      <td>0.2</td>\n",
       "      <td>setosa</td>\n",
       "    </tr>\n",
       "    <tr>\n",
       "      <th>4</th>\n",
       "      <td>5.0</td>\n",
       "      <td>3.6</td>\n",
       "      <td>1.4</td>\n",
       "      <td>0.2</td>\n",
       "      <td>setosa</td>\n",
       "    </tr>\n",
       "  </tbody>\n",
       "</table>\n",
       "</div>"
      ],
      "text/plain": [
       "   sepalLength  sepalWidth  petalLength  petalWidth species\n",
       "0          5.1         3.5          1.4         0.2  setosa\n",
       "1          4.9         3.0          1.4         0.2  setosa\n",
       "2          4.7         3.2          1.3         0.2  setosa\n",
       "3          4.6         3.1          1.5         0.2  setosa\n",
       "4          5.0         3.6          1.4         0.2  setosa"
      ]
     },
     "execution_count": 4,
     "metadata": {},
     "output_type": "execute_result"
    }
   ],
   "source": [
    "# Load the iris dataset\n",
    "iris = data.iris()\n",
    "\n",
    "# Display the first few rows of the dataset\n",
    "iris.head()"
   ]
  },
  {
   "cell_type": "markdown",
   "id": "0907d6d4-7b6d-41d7-8f11-fa5d0ca18615",
   "metadata": {},
   "source": [
    "Let’s create a basic scatter plot to visualize the relationship between petalLength and petalWidth. Then we will apply a transformation to normalize the petalLength and petalWidth before encoding them into a scatter plot. Normalizing data can help in comparing features that have different scales."
   ]
  },
  {
   "cell_type": "code",
   "execution_count": null,
   "id": "a52806d8-1725-4db0-8700-b04d382db4ea",
   "metadata": {},
   "outputs": [],
   "source": []
  },
  {
   "cell_type": "markdown",
   "id": "e15bdab8",
   "metadata": {},
   "source": [
    "#### Choices of mark and encoding\n",
    "\n",
    "###### Encoding Channels\n",
    "\n",
    "- x: Horizontal (x-axis) position of the mark.\n",
    "- y: Vertical (y-axis) position of the mark.\n",
    "- size: Size of the mark. May correspond to area or length, depending on the mark type.\n",
    "- color: Mark color, specified as a legal CSS color.\n",
    "- opacity: Mark opacity, ranging from 0 (fully transparent) to 1 (fully opaque).\n",
    "- shape: Plotting symbol shape for point marks.\n",
    "- tooltip: Tooltip text to display upon mouse hover over the mark.\n",
    "- order: Mark ordering, determines line/area point order and drawing order.\n",
    "- column: Facet the data into horizontally-aligned subplots.\n",
    "- row: Facet the data into vertically-aligned subplots."
   ]
  },
  {
   "cell_type": "code",
   "execution_count": null,
   "id": "102004db",
   "metadata": {},
   "outputs": [],
   "source": []
  },
  {
   "cell_type": "markdown",
   "id": "0d9fa6b1",
   "metadata": {},
   "source": [
    "###### Marks\n",
    "\n",
    "- mark_point() - Scatter plot points with configurable shapes.\n",
    "- mark_circle() - Scatter plot points as filled circles.\n",
    "- mark_square() - Scatter plot points as filled squares.\n",
    "- mark_tick() - Vertical or horizontal tick marks.\n",
    "- mark_bar() - Rectangular bars.\n",
    "- mark_boxplot() - Boxplot\n",
    "- mark_line() - Connected line segments.\n",
    "- mark_area() - Filled areas defined by a top-line and a baseline.\n",
    "- mark_rect() - Filled rectangles, useful for heatmaps.\n",
    "- mark_rule() - Vertical or horizontal lines spanning the axis.\n",
    "- mark_text() - Scatter plot points represented by text."
   ]
  },
  {
   "cell_type": "code",
   "execution_count": null,
   "id": "f02c08ed",
   "metadata": {},
   "outputs": [],
   "source": []
  },
  {
   "cell_type": "code",
   "execution_count": null,
   "id": "9b145a75",
   "metadata": {},
   "outputs": [],
   "source": []
  },
  {
   "cell_type": "code",
   "execution_count": null,
   "id": "7b4968e5",
   "metadata": {},
   "outputs": [],
   "source": []
  },
  {
   "cell_type": "code",
   "execution_count": null,
   "id": "c5585608",
   "metadata": {},
   "outputs": [],
   "source": []
  },
  {
   "cell_type": "code",
   "execution_count": null,
   "id": "044796c2",
   "metadata": {},
   "outputs": [],
   "source": []
  },
  {
   "cell_type": "code",
   "execution_count": null,
   "id": "a3cf2e93",
   "metadata": {},
   "outputs": [],
   "source": []
  },
  {
   "cell_type": "code",
   "execution_count": null,
   "id": "e8b218df",
   "metadata": {},
   "outputs": [],
   "source": []
  },
  {
   "cell_type": "code",
   "execution_count": null,
   "id": "d57cd130",
   "metadata": {},
   "outputs": [],
   "source": []
  },
  {
   "cell_type": "code",
   "execution_count": null,
   "id": "705232e4",
   "metadata": {},
   "outputs": [],
   "source": []
  },
  {
   "cell_type": "markdown",
   "id": "157d0886",
   "metadata": {},
   "source": [
    "### Adding multiple plots together and save"
   ]
  },
  {
   "cell_type": "code",
   "execution_count": null,
   "id": "328df5e7",
   "metadata": {},
   "outputs": [],
   "source": []
  }
 ],
 "metadata": {
  "celltoolbar": "Slideshow",
  "kernelspec": {
   "display_name": "Python [conda env:base] *",
   "language": "python",
   "name": "conda-base-py"
  },
  "language_info": {
   "codemirror_mode": {
    "name": "ipython",
    "version": 3
   },
   "file_extension": ".py",
   "mimetype": "text/x-python",
   "name": "python",
   "nbconvert_exporter": "python",
   "pygments_lexer": "ipython3",
   "version": "3.9.13"
  }
 },
 "nbformat": 4,
 "nbformat_minor": 5
}
